{
 "cells": [
  {
   "cell_type": "code",
   "execution_count": 76,
   "id": "3da28890",
   "metadata": {},
   "outputs": [],
   "source": [
    "import numpy as np\n",
    "import pandas as pd\n",
    "import matplotlib.pyplot as plt\n",
    "import math\n",
    "import seaborn as sns\n",
    "%matplotlib inline"
   ]
  },
  {
   "cell_type": "code",
   "execution_count": 60,
   "id": "344759aa",
   "metadata": {},
   "outputs": [
    {
     "data": {
      "text/html": [
       "<div>\n",
       "<style scoped>\n",
       "    .dataframe tbody tr th:only-of-type {\n",
       "        vertical-align: middle;\n",
       "    }\n",
       "\n",
       "    .dataframe tbody tr th {\n",
       "        vertical-align: top;\n",
       "    }\n",
       "\n",
       "    .dataframe thead th {\n",
       "        text-align: right;\n",
       "    }\n",
       "</style>\n",
       "<table border=\"1\" class=\"dataframe\">\n",
       "  <thead>\n",
       "    <tr style=\"text-align: right;\">\n",
       "      <th></th>\n",
       "      <th>area</th>\n",
       "      <th>prices</th>\n",
       "    </tr>\n",
       "  </thead>\n",
       "  <tbody>\n",
       "    <tr>\n",
       "      <th>0</th>\n",
       "      <td>6.1101</td>\n",
       "      <td>17.5920</td>\n",
       "    </tr>\n",
       "    <tr>\n",
       "      <th>1</th>\n",
       "      <td>5.5277</td>\n",
       "      <td>9.1302</td>\n",
       "    </tr>\n",
       "    <tr>\n",
       "      <th>2</th>\n",
       "      <td>8.5186</td>\n",
       "      <td>13.6620</td>\n",
       "    </tr>\n",
       "    <tr>\n",
       "      <th>3</th>\n",
       "      <td>7.0032</td>\n",
       "      <td>11.8540</td>\n",
       "    </tr>\n",
       "    <tr>\n",
       "      <th>4</th>\n",
       "      <td>5.8598</td>\n",
       "      <td>6.8233</td>\n",
       "    </tr>\n",
       "  </tbody>\n",
       "</table>\n",
       "</div>"
      ],
      "text/plain": [
       "     area   prices\n",
       "0  6.1101  17.5920\n",
       "1  5.5277   9.1302\n",
       "2  8.5186  13.6620\n",
       "3  7.0032  11.8540\n",
       "4  5.8598   6.8233"
      ]
     },
     "execution_count": 60,
     "metadata": {},
     "output_type": "execute_result"
    }
   ],
   "source": [
    "dataset = pd.read_csv(\"prices.csv\")\n",
    "dataset"
   ]
  },
  {
   "cell_type": "code",
   "execution_count": 61,
   "id": "1e3377b6",
   "metadata": {},
   "outputs": [],
   "source": [
    "x_train=dataset[\"area\"]\n",
    "y_train=dataset[\"prices\"]"
   ]
  },
  {
   "cell_type": "code",
   "execution_count": 62,
   "id": "a105563e",
   "metadata": {},
   "outputs": [
    {
     "data": {
      "text/plain": [
       "0    6.1101\n",
       "1    5.5277\n",
       "2    8.5186\n",
       "3    7.0032\n",
       "4    5.8598\n",
       "Name: area, dtype: float64"
      ]
     },
     "execution_count": 62,
     "metadata": {},
     "output_type": "execute_result"
    }
   ],
   "source": [
    "x_train"
   ]
  },
  {
   "cell_type": "code",
   "execution_count": 63,
   "id": "5f7dd5fd",
   "metadata": {},
   "outputs": [
    {
     "data": {
      "text/plain": [
       "0    17.5920\n",
       "1     9.1302\n",
       "2    13.6620\n",
       "3    11.8540\n",
       "4     6.8233\n",
       "Name: prices, dtype: float64"
      ]
     },
     "execution_count": 63,
     "metadata": {},
     "output_type": "execute_result"
    }
   ],
   "source": [
    "y_train"
   ]
  },
  {
   "cell_type": "code",
   "execution_count": 64,
   "id": "4860c88d",
   "metadata": {},
   "outputs": [
    {
     "name": "stdout",
     "output_type": "stream",
     "text": [
      "The shape of x_train is: (5,)\n",
      "The shape of y_train is:  (5,)\n",
      "Number of training examples (m): 5\n"
     ]
    }
   ],
   "source": [
    "print ('The shape of x_train is:', x_train.shape)\n",
    "print ('The shape of y_train is: ', y_train.shape)\n",
    "print ('Number of training examples (m):', len(x_train))\n",
    "m=len(x_train)"
   ]
  },
  {
   "cell_type": "code",
   "execution_count": 77,
   "id": "7e0fa74e",
   "metadata": {},
   "outputs": [
    {
     "data": {
      "image/png": "[encoded data removed]",
      "text/plain": [
       "<Figure size 640x480 with 1 Axes>"
      ]
     },
     "metadata": {},
     "output_type": "display_data"
    }
   ],
   "source": [
    "plt.scatter(x_train, y_train, marker='+', c='b') \n",
    "plt.title(\"area vs prices\")\n",
    "plt.ylabel('Prices')\n",
    "plt.xlabel('area')\n",
    "plt.show()"
   ]
  },
  {
   "cell_type": "code",
   "execution_count": 78,
   "id": "0809acb5",
   "metadata": {},
   "outputs": [],
   "source": [
    "# cost function\n",
    "def cost_func(w,b,x_train,y_train):\n",
    "    cost=0\n",
    "    total_cost=0\n",
    "    for i in range(m):\n",
    "        fwb=(x_train[i]*w)+b\n",
    "        cost+=(fwb-y_train[i])**2\n",
    "    total_cost=cost/(2.0*m)\n",
    "    return total_cost"
   ]
  },
  {
   "cell_type": "code",
   "execution_count": 86,
   "id": "208787be",
   "metadata": {},
   "outputs": [],
   "source": [
    "def gradient(w,b,x,y):\n",
    "    dj_dw=0\n",
    "    dj_db=0\n",
    "    for i in range(m):\n",
    "        fwb=(x[i]*w)+b\n",
    "        dj_dw+=(fwb-y[i])*x[i]\n",
    "        dj_db+=(fwb-y[i])\n",
    "    dj_dw /= m\n",
    "    dj_db /= m\n",
    "    return dj_dw,dj_db\n",
    "        "
   ]
  },
  {
   "cell_type": "code",
   "execution_count": 87,
   "id": "54b6e40b",
   "metadata": {},
   "outputs": [],
   "source": [
    "def descent(w_in,b_in,x,y,cost_func,gradient,l,iterations,m):\n",
    "    J_history = []\n",
    "    w_history = []\n",
    "    w = w_in\n",
    "    b = b_in\n",
    "    \n",
    "    for i in range(iterations):\n",
    "        dj_dw, dj_db = gradient(w,b,x,y)  \n",
    "        w = w - l * dj_dw               \n",
    "        b = b - l * dj_db               \n",
    "        if i<100000:    \n",
    "            cost =  cost_func(w,b,x,y)\n",
    "            J_history.append(cost)\n",
    "\n",
    "        if i% math.ceil(iterations/10) == 0:\n",
    "            w_history.append(w)\n",
    "            print(f\"Iteration {i:4}: Cost {float(J_history[-1]):8.2f}  \")\n",
    "        \n",
    "    return w, b, J_history, w_history"
   ]
  },
  {
   "cell_type": "code",
   "execution_count": 88,
   "id": "e4f70fca",
   "metadata": {},
   "outputs": [
    {
     "name": "stdout",
     "output_type": "stream",
     "text": [
      "Iteration    0: Cost    26.87  \n",
      "Iteration  150: Cost     6.09  \n",
      "Iteration  300: Cost     6.08  \n",
      "Iteration  450: Cost     6.07  \n",
      "Iteration  600: Cost     6.07  \n",
      "Iteration  750: Cost     6.06  \n",
      "Iteration  900: Cost     6.05  \n",
      "Iteration 1050: Cost     6.05  \n",
      "Iteration 1200: Cost     6.04  \n",
      "Iteration 1350: Cost     6.04  \n",
      "w,b found by gradient descent: 1.5878591148635817 1.2706734775735502\n"
     ]
    }
   ],
   "source": [
    "initial_w = 0.\n",
    "initial_b = 0.\n",
    "iterations = 1500\n",
    "alpha = 0.01\n",
    "w,b,_,_ = descent( initial_w, initial_b, x_train ,y_train,\n",
    "                     cost_func,gradient, alpha, iterations,m)\n",
    "print(\"w,b found by gradient descent:\", w, b)"
   ]
  },
  {
   "cell_type": "code",
   "execution_count": 89,
   "id": "e6fb7516",
   "metadata": {},
   "outputs": [],
   "source": [
    "predicted = np.zeros(m)\n",
    "for i in range(m):\n",
    "    predicted[i] = w * x_train[i] + b"
   ]
  },
  {
   "cell_type": "code",
   "execution_count": 90,
   "id": "289b053d",
   "metadata": {},
   "outputs": [
    {
     "data": {
      "text/plain": [
       "Text(0.5, 0, 'area')"
      ]
     },
     "execution_count": 90,
     "metadata": {},
     "output_type": "execute_result"
    },
    {
     "data": {
      "image/png": "[encoded data removed]",
      "text/plain": [
       "<Figure size 640x480 with 1 Axes>"
      ]
     },
     "metadata": {},
     "output_type": "display_data"
    }
   ],
   "source": [
    "plt.plot(x_train, predicted, c = \"b\")\n",
    "plt.scatter(x_train,y_train)\n",
    "plt.title(\"area vs prices\")\n",
    "plt.ylabel('prices')\n",
    "plt.xlabel('area')"
   ]
  },
  {
   "cell_type": "code",
   "execution_count": 91,
   "id": "f4dfb972",
   "metadata": {},
   "outputs": [
    {
     "data": {
      "text/plain": [
       "<AxesSubplot:xlabel='area', ylabel='prices'>"
      ]
     },
     "execution_count": 91,
     "metadata": {},
     "output_type": "execute_result"
    },
    {
     "data": {
      "image/png": "[encoded data removed]",
      "text/plain": [
       "<Figure size 640x480 with 1 Axes>"
      ]
     },
     "metadata": {},
     "output_type": "display_data"
    }
   ],
   "source": [
    "sns.regplot(x_train, y_train,ci=None)"
   ]
  },
  {
   "cell_type": "code",
   "execution_count": 92,
   "id": "90126ded",
   "metadata": {},
   "outputs": [
    {
     "data": {
      "image/png": "[encoded data removed]",
      "text/plain": [
       "<Figure size 400x300 with 1 Axes>"
      ]
     },
     "metadata": {},
     "output_type": "display_data"
    }
   ],
   "source": [
    "plt.figure(figsize=(4, 3))\n",
    "ax = plt.axes()\n",
    "ax.scatter(x_train, y_train)\n",
    "ax.plot(x_train, predicted)\n",
    "\n",
    "ax.set_xlabel('x')\n",
    "ax.set_ylabel('y')\n",
    "\n",
    "ax.axis('tight')\n",
    "\n",
    "plt.show()"
   ]
  },
  {
   "cell_type": "code",
   "execution_count": null,
   "id": "39604deb",
   "metadata": {},
   "outputs": [],
   "source": []
  }
 ],
 "metadata": {
  "kernelspec": {
   "display_name": "Python 3 (ipykernel)",
   "language": "python",
   "name": "python3"
  },
  "language_info": {
   "codemirror_mode": {
    "name": "ipython",
    "version": 3
   },
   "file_extension": ".py",
   "mimetype": "text/x-python",
   "name": "python",
   "nbconvert_exporter": "python",
   "pygments_lexer": "ipython3",
   "version": "3.9.13"
  }
 },
 "nbformat": 4,
 "nbformat_minor": 5
}
